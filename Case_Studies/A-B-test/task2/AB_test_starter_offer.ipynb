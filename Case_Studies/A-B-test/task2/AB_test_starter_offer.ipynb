{
 "cells": [
  {
   "cell_type": "markdown",
   "metadata": {},
   "source": [
    "# Table of Contents\n",
    "\n",
    "## Introduction\n",
    "\n",
    "- **Brief Overview**: A quick summary of the problem at hand and the objectives of the A/B test.\n",
    "\n",
    "---\n",
    "\n",
    "## Data Preprocessing and EDA\n",
    "\n",
    "- **Basic Stats**: Descriptive statistics to understand the dataset.\n",
    "- **Data Cleaning**: Handling missing values, outliers, etc.\n",
    "- **Exploratory Analyses**: Plots and other visualizations to understand the data distribution and relationships.\n",
    "\n",
    "---\n",
    "\n",
    "## Metrics Definition\n",
    "\n",
    "- **Key Metrics**: Clear definitions of the metrics (Conversion Rate, ARPU, etc.) that will be used for evaluating the A/B test.\n",
    "\n",
    "---\n",
    "\n",
    "## Experiment Designs for A/B Tests\n",
    "\n",
    "- **Hypotheses**: Null and alternative hypotheses for the two-tailed test.\n",
    "- **Test Parameters**: Significance level, practical significance level, etc.\n",
    "\n",
    "---\n",
    "\n",
    "## A/B Test Execution for A/B Tests\n",
    "\n",
    "- **Code**: The actual Python code for executing the two-tailed Z-test.\n",
    "- **Interpretation**: Discussion of the test results, including statistical and practical significance.\n",
    "\n",
    "---\n",
    "\n",
    "## Conclusion\n",
    "\n",
    "- **Summary**: A wrap-up of the key findings from the A/B tests, their implications and recommendations.\n",
    "- **Metrics Considered**: Other metrics considered.\n",
    "\n",
    "---\n",
    "\n",
    "## Appendices (Optional)\n",
    "\n",
    "- **Additional Analyses**: One-Tailed Test \n"
   ]
  },
  {
   "cell_type": "markdown",
   "metadata": {},
   "source": [
    "# Introduction and Objectives\n",
    "\n",
    "This notebook aims to perform a comprehensive A/B test analysis on the starter offers for a mobile game. The company has recently made changes to its starter offer, reducing the price fivefold and offering half the original content. The goal of this analysis is to evaluate the impact of this change on several key business metrics.\n",
    "\n",
    "## Objectives\n",
    "\n",
    "The key objectives of this analysis are to evaluate the change in:\n",
    "\n",
    "1. **Conversion Rate**: The proportion of users who make a purchase after installing the game.\n",
    "2. **Average Revenue Per User (ARPU)**: The average revenue generated per user.\n",
    "3. **Average Revenue Per Paying User (ARPPU)**: The average revenue generated per user who makes a purchase.\n",
    "\n",
    "## Business Context\n",
    "\n",
    "Understanding the impact of the starter offer change is important for:\n",
    "- Making informed decisions on pricing strategy.\n",
    "- Identifying opportunities to optimize user engagement and revenue.\n",
    "\n",
    "**Note**: The formulation of the null and alternative hypotheses will be detailed later in this notebook"
   ]
  },
  {
   "cell_type": "markdown",
   "metadata": {},
   "source": [
    "## Experimental Design\n",
    "\n",
    "- **Splitting Mechanism**: The dataset has already been split into Control and Test groups.\n",
    "- **Randomization**: The randomization is assumed to have been done prior to data collection.\n",
    "- **Comparability**: Before proceeding with the analysis, we will check if the two groups are statistically comparable based on available metrics."
   ]
  },
  {
   "cell_type": "markdown",
   "metadata": {},
   "source": [
    "## Data Collection\n",
    "\n",
    "- **Data Collection Mechanism**: The dataset has been provided, so this step has been performed already.\n",
    "- **Dataset**: `user_id`, `install_time`, `payment_time`, `amount`, `ab_group` are the available data points for both groups."
   ]
  },
  {
   "cell_type": "markdown",
   "metadata": {},
   "source": [
    "# Data Loading\n",
    "\n",
    "In this section, we will load the dataset and take a look at its structure. This will help us understand what kind of data we are dealing with and how to approach the subsequent analysis.\n"
   ]
  },
  {
   "cell_type": "code",
   "execution_count": 1,
   "metadata": {},
   "outputs": [],
   "source": [
    "# Data Manipulation Libraries\n",
    "import pandas as pd\n",
    "import numpy as np\n",
    "\n",
    "# Statistical Libraries\n",
    "from scipy.stats import probplot, shapiro, levene, ttest_ind, mannwhitneyu, pearsonr, spearmanr, kendalltau,norm\n",
    "import statsmodels.api as sm\n",
    "from statsmodels.stats.proportion import proportions_ztest, proportion_confint\n",
    "\n",
    "\n",
    "# Data Visualization Libraries\n",
    "import matplotlib.pyplot as plt\n",
    "import seaborn as sns\n"
   ]
  },
  {
   "cell_type": "code",
   "execution_count": 2,
   "metadata": {},
   "outputs": [
    {
     "data": {
      "text/html": [
       "<div>\n",
       "<style scoped>\n",
       "    .dataframe tbody tr th:only-of-type {\n",
       "        vertical-align: middle;\n",
       "    }\n",
       "\n",
       "    .dataframe tbody tr th {\n",
       "        vertical-align: top;\n",
       "    }\n",
       "\n",
       "    .dataframe thead th {\n",
       "        text-align: right;\n",
       "    }\n",
       "</style>\n",
       "<table border=\"1\" class=\"dataframe\">\n",
       "  <thead>\n",
       "    <tr style=\"text-align: right;\">\n",
       "      <th></th>\n",
       "      <th>user_id</th>\n",
       "      <th>ab_group</th>\n",
       "      <th>install_time</th>\n",
       "      <th>payment_time</th>\n",
       "      <th>amount</th>\n",
       "    </tr>\n",
       "  </thead>\n",
       "  <tbody>\n",
       "    <tr>\n",
       "      <th>0</th>\n",
       "      <td>300647965935</td>\n",
       "      <td>1</td>\n",
       "      <td>2005-05-20 03:00:27</td>\n",
       "      <td>NaN</td>\n",
       "      <td>NaN</td>\n",
       "    </tr>\n",
       "    <tr>\n",
       "      <th>1</th>\n",
       "      <td>300647965937</td>\n",
       "      <td>2</td>\n",
       "      <td>2005-05-20 03:00:48</td>\n",
       "      <td>NaN</td>\n",
       "      <td>NaN</td>\n",
       "    </tr>\n",
       "    <tr>\n",
       "      <th>2</th>\n",
       "      <td>300647965938</td>\n",
       "      <td>2</td>\n",
       "      <td>2005-05-20 03:00:50</td>\n",
       "      <td>NaN</td>\n",
       "      <td>NaN</td>\n",
       "    </tr>\n",
       "    <tr>\n",
       "      <th>3</th>\n",
       "      <td>300647965942</td>\n",
       "      <td>1</td>\n",
       "      <td>2005-05-20 03:02:07</td>\n",
       "      <td>NaN</td>\n",
       "      <td>NaN</td>\n",
       "    </tr>\n",
       "    <tr>\n",
       "      <th>4</th>\n",
       "      <td>300647965950</td>\n",
       "      <td>2</td>\n",
       "      <td>2005-05-20 03:06:02</td>\n",
       "      <td>NaN</td>\n",
       "      <td>NaN</td>\n",
       "    </tr>\n",
       "  </tbody>\n",
       "</table>\n",
       "</div>"
      ],
      "text/plain": [
       "        user_id  ab_group         install_time payment_time  amount\n",
       "0  300647965935         1  2005-05-20 03:00:27          NaN     NaN\n",
       "1  300647965937         2  2005-05-20 03:00:48          NaN     NaN\n",
       "2  300647965938         2  2005-05-20 03:00:50          NaN     NaN\n",
       "3  300647965942         1  2005-05-20 03:02:07          NaN     NaN\n",
       "4  300647965950         2  2005-05-20 03:06:02          NaN     NaN"
      ]
     },
     "execution_count": 2,
     "metadata": {},
     "output_type": "execute_result"
    }
   ],
   "source": [
    "# Load the dataset\n",
    "df = pd.read_csv('task2_ab_dataset.csv')\n",
    "\n",
    "# Display the first few rows of the dataset\n",
    "df.head()"
   ]
  },
  {
   "cell_type": "markdown",
   "metadata": {},
   "source": [
    "## Data Preprocessing and Cleaning\n",
    "\n",
    "- **Data Integrity Checks**: Confirm no duplicate or erroneous entries exist.\n",
    "- **Missing Value Checks**: Check for missing values"
   ]
  },
  {
   "cell_type": "code",
   "execution_count": 3,
   "metadata": {},
   "outputs": [
    {
     "name": "stdout",
     "output_type": "stream",
     "text": [
      "Data Preprocessing Results\n",
      "--------------------------\n",
      "Data Integrity Check: Missing values in 'user_id' and 'ab_group':\n",
      "user_id     0\n",
      "ab_group    0\n",
      "    - 'amount' is null when 'payment_time' is null: True\n",
      "    - Duplicate values: 0\n",
      "\n",
      "Data Type Validation: Data types of columns:\n",
      "user_id           int64\n",
      "ab_group          int64\n",
      "install_time     object\n",
      "payment_time     object\n",
      "amount          float64\n",
      "dtype: object\n"
     ]
    }
   ],
   "source": [
    "# Step 7.1: Data Integrity Check \n",
    "missing_values = df[['user_id', 'ab_group']].isnull().sum()\n",
    "\n",
    "# Confirm that 'amount' is null when 'payment_time' is null\n",
    "amount_payment_time_check = df[df['amount'].isnull()]['payment_time'].isnull().all()\n",
    "\n",
    "duplicate_values = df.duplicated().sum()\n",
    "\n",
    "# Step 7.2: Data Type Validation -\n",
    "data_types_check = df.dtypes\n",
    "\n",
    "print(\"Data Preprocessing Results\")\n",
    "print(\"--------------------------\")\n",
    "print(f\"Data Integrity Check: Missing values in 'user_id' and 'ab_group':\\n{missing_values.to_string()}\")\n",
    "print(f\"    - 'amount' is null when 'payment_time' is null: {amount_payment_time_check}\")\n",
    "print(f\"    - Duplicate values: {duplicate_values}\")\n",
    "print(\"\")\n",
    "print(f\"Data Type Validation: Data types of columns:\\n{data_types_check}\")"
   ]
  },
  {
   "cell_type": "code",
   "execution_count": 4,
   "metadata": {},
   "outputs": [
    {
     "data": {
      "text/plain": [
       "1    72813\n",
       "2       40\n",
       "Name: ab_group, dtype: int64"
      ]
     },
     "execution_count": 4,
     "metadata": {},
     "output_type": "execute_result"
    }
   ],
   "source": [
    "df.groupby('user_id')['ab_group'].nunique().value_counts()"
   ]
  },
  {
   "cell_type": "markdown",
   "metadata": {},
   "source": [
    "Only 40 users have both ab_group values"
   ]
  },
  {
   "cell_type": "markdown",
   "metadata": {},
   "source": [
    "### Sample Size and Proportions\n",
    "\n",
    "- **Balance**: We will evaluate whether the sample sizes for the Control and Test groups are adequately balanced.\n",
    "- **Assumptions and Requirements**: Discuss if the sample sizes meet the assumptions or requirements for a valid A/B test."
   ]
  },
  {
   "cell_type": "code",
   "execution_count": 5,
   "metadata": {},
   "outputs": [],
   "source": [
    "control_group = df[df['ab_group'] == 1]\n",
    "test_group = df[df['ab_group'] == 2]\n",
    "\n",
    "# 3 The sample size\n",
    "unique_users_control = control_group['user_id'].nunique()\n",
    "unique_users_test = test_group['user_id'].nunique()\n",
    "\n",
    "# Calculate the proportion of samples in each group\n",
    "total_sample_size = unique_users_control + unique_users_test\n",
    "proportion_control = unique_users_control / total_sample_size\n",
    "proportion_test = unique_users_test / total_sample_size"
   ]
  },
  {
   "cell_type": "code",
   "execution_count": 6,
   "metadata": {},
   "outputs": [
    {
     "name": "stdout",
     "output_type": "stream",
     "text": [
      "A/B Test Sample Size and Proportion Summary\n",
      "-------------------------------------------\n",
      "Total Unique Users in Dataset: 72893\n",
      "\n",
      "Control Group:\n",
      "  - Unique Users (Sample Size): 36188\n",
      "  - Proportion of Total: 49.65%\n",
      "\n",
      "Test Group:\n",
      "  - Unique Users (Sample Size): 36705\n",
      "  - Proportion of Total: 50.35%\n"
     ]
    }
   ],
   "source": [
    "# Print the results in a readable format\n",
    "print(\"A/B Test Sample Size and Proportion Summary\")\n",
    "print(\"-------------------------------------------\")\n",
    "print(f\"Total Unique Users in Dataset: {total_sample_size}\")\n",
    "print(\"\")\n",
    "print(\"Control Group:\")\n",
    "print(f\"  - Unique Users (Sample Size): {unique_users_control}\")\n",
    "print(f\"  - Proportion of Total: {proportion_control * 100:.2f}%\")\n",
    "print(\"\")\n",
    "print(\"Test Group:\")\n",
    "print(f\"  - Unique Users (Sample Size): {unique_users_test}\")\n",
    "print(f\"  - Proportion of Total: {proportion_test * 100:.2f}%\")"
   ]
  },
  {
   "cell_type": "markdown",
   "metadata": {},
   "source": [
    "### Sample Size and Proportions Interpretation\n",
    "\n",
    "- **Balance**: The proportions between the Control and Test groups are approximately equal (50% each), indicating that the sample sizes are adequately balanced for the purpose of this A/B test.\n",
    "- **Assumptions and Requirements**: The almost equal division into Control and Test groups meets the requirements for a valid A/B test, ensuring that statistical power is maintained. This balance allows for more reliable results."
   ]
  },
  {
   "cell_type": "markdown",
   "metadata": {},
   "source": [
    "## Exploratory Data Analysis (EDA)\n",
    "\n",
    "Perform initial data exploration to understand the dataset's structure, types, and missing values.\n",
    "- **Data Types**: Confirm the data types are as expected for each column.\n",
    "- **Summary Statistics**: Provide basic statistics to understand the data distribution."
   ]
  },
  {
   "cell_type": "code",
   "execution_count": 7,
   "metadata": {},
   "outputs": [
    {
     "name": "stdout",
     "output_type": "stream",
     "text": [
      "<class 'pandas.core.frame.DataFrame'>\n",
      "RangeIndex: 83296 entries, 0 to 83295\n",
      "Data columns (total 5 columns):\n",
      " #   Column        Non-Null Count  Dtype         \n",
      "---  ------        --------------  -----         \n",
      " 0   user_id       83296 non-null  int64         \n",
      " 1   ab_group      83296 non-null  int64         \n",
      " 2   install_time  83296 non-null  datetime64[ns]\n",
      " 3   payment_time  12262 non-null  datetime64[ns]\n",
      " 4   amount        12262 non-null  float64       \n",
      "dtypes: datetime64[ns](2), float64(1), int64(2)\n",
      "memory usage: 3.2 MB\n",
      "None\n"
     ]
    },
    {
     "name": "stderr",
     "output_type": "stream",
     "text": [
      "/var/folders/tp/fgk3g2gs5bsbfwrmfy1n6lj40000gn/T/ipykernel_19487/1045526565.py:8: FutureWarning: Treating datetime data as categorical rather than numeric in `.describe` is deprecated and will be removed in a future version of pandas. Specify `datetime_is_numeric=True` to silence this warning and adopt the future behavior now.\n",
      "  df.describe(include = 'all' )\n",
      "/var/folders/tp/fgk3g2gs5bsbfwrmfy1n6lj40000gn/T/ipykernel_19487/1045526565.py:8: FutureWarning: Treating datetime data as categorical rather than numeric in `.describe` is deprecated and will be removed in a future version of pandas. Specify `datetime_is_numeric=True` to silence this warning and adopt the future behavior now.\n",
      "  df.describe(include = 'all' )\n"
     ]
    },
    {
     "data": {
      "text/html": [
       "<div>\n",
       "<style scoped>\n",
       "    .dataframe tbody tr th:only-of-type {\n",
       "        vertical-align: middle;\n",
       "    }\n",
       "\n",
       "    .dataframe tbody tr th {\n",
       "        vertical-align: top;\n",
       "    }\n",
       "\n",
       "    .dataframe thead th {\n",
       "        text-align: right;\n",
       "    }\n",
       "</style>\n",
       "<table border=\"1\" class=\"dataframe\">\n",
       "  <thead>\n",
       "    <tr style=\"text-align: right;\">\n",
       "      <th></th>\n",
       "      <th>user_id</th>\n",
       "      <th>ab_group</th>\n",
       "      <th>install_time</th>\n",
       "      <th>payment_time</th>\n",
       "      <th>amount</th>\n",
       "    </tr>\n",
       "  </thead>\n",
       "  <tbody>\n",
       "    <tr>\n",
       "      <th>count</th>\n",
       "      <td>8.329600e+04</td>\n",
       "      <td>83296.000000</td>\n",
       "      <td>83296</td>\n",
       "      <td>12262</td>\n",
       "      <td>12262.000000</td>\n",
       "    </tr>\n",
       "    <tr>\n",
       "      <th>unique</th>\n",
       "      <td>NaN</td>\n",
       "      <td>NaN</td>\n",
       "      <td>72198</td>\n",
       "      <td>12250</td>\n",
       "      <td>NaN</td>\n",
       "    </tr>\n",
       "    <tr>\n",
       "      <th>top</th>\n",
       "      <td>NaN</td>\n",
       "      <td>NaN</td>\n",
       "      <td>2005-07-10 03:33:54</td>\n",
       "      <td>2005-06-17 03:42:33</td>\n",
       "      <td>NaN</td>\n",
       "    </tr>\n",
       "    <tr>\n",
       "      <th>freq</th>\n",
       "      <td>NaN</td>\n",
       "      <td>NaN</td>\n",
       "      <td>96</td>\n",
       "      <td>2</td>\n",
       "      <td>NaN</td>\n",
       "    </tr>\n",
       "    <tr>\n",
       "      <th>first</th>\n",
       "      <td>NaN</td>\n",
       "      <td>NaN</td>\n",
       "      <td>2005-05-20 03:00:27</td>\n",
       "      <td>2005-05-20 16:37:36</td>\n",
       "      <td>NaN</td>\n",
       "    </tr>\n",
       "    <tr>\n",
       "      <th>last</th>\n",
       "      <td>NaN</td>\n",
       "      <td>NaN</td>\n",
       "      <td>2005-07-20 02:59:33</td>\n",
       "      <td>2005-08-18 23:38:54</td>\n",
       "      <td>NaN</td>\n",
       "    </tr>\n",
       "    <tr>\n",
       "      <th>mean</th>\n",
       "      <td>2.982599e+11</td>\n",
       "      <td>1.501801</td>\n",
       "      <td>NaN</td>\n",
       "      <td>NaN</td>\n",
       "      <td>1597.178927</td>\n",
       "    </tr>\n",
       "    <tr>\n",
       "      <th>std</th>\n",
       "      <td>9.016683e+09</td>\n",
       "      <td>0.500000</td>\n",
       "      <td>NaN</td>\n",
       "      <td>NaN</td>\n",
       "      <td>3528.642055</td>\n",
       "    </tr>\n",
       "    <tr>\n",
       "      <th>min</th>\n",
       "      <td>2.662880e+11</td>\n",
       "      <td>1.000000</td>\n",
       "      <td>NaN</td>\n",
       "      <td>NaN</td>\n",
       "      <td>100.000000</td>\n",
       "    </tr>\n",
       "    <tr>\n",
       "      <th>25%</th>\n",
       "      <td>3.006480e+11</td>\n",
       "      <td>1.000000</td>\n",
       "      <td>NaN</td>\n",
       "      <td>NaN</td>\n",
       "      <td>499.000000</td>\n",
       "    </tr>\n",
       "    <tr>\n",
       "      <th>50%</th>\n",
       "      <td>3.006481e+11</td>\n",
       "      <td>2.000000</td>\n",
       "      <td>NaN</td>\n",
       "      <td>NaN</td>\n",
       "      <td>499.000000</td>\n",
       "    </tr>\n",
       "    <tr>\n",
       "      <th>75%</th>\n",
       "      <td>3.006483e+11</td>\n",
       "      <td>2.000000</td>\n",
       "      <td>NaN</td>\n",
       "      <td>NaN</td>\n",
       "      <td>999.000000</td>\n",
       "    </tr>\n",
       "    <tr>\n",
       "      <th>max</th>\n",
       "      <td>3.049428e+11</td>\n",
       "      <td>2.000000</td>\n",
       "      <td>NaN</td>\n",
       "      <td>NaN</td>\n",
       "      <td>24999.000000</td>\n",
       "    </tr>\n",
       "  </tbody>\n",
       "</table>\n",
       "</div>"
      ],
      "text/plain": [
       "             user_id      ab_group         install_time         payment_time  \\\n",
       "count   8.329600e+04  83296.000000                83296                12262   \n",
       "unique           NaN           NaN                72198                12250   \n",
       "top              NaN           NaN  2005-07-10 03:33:54  2005-06-17 03:42:33   \n",
       "freq             NaN           NaN                   96                    2   \n",
       "first            NaN           NaN  2005-05-20 03:00:27  2005-05-20 16:37:36   \n",
       "last             NaN           NaN  2005-07-20 02:59:33  2005-08-18 23:38:54   \n",
       "mean    2.982599e+11      1.501801                  NaN                  NaN   \n",
       "std     9.016683e+09      0.500000                  NaN                  NaN   \n",
       "min     2.662880e+11      1.000000                  NaN                  NaN   \n",
       "25%     3.006480e+11      1.000000                  NaN                  NaN   \n",
       "50%     3.006481e+11      2.000000                  NaN                  NaN   \n",
       "75%     3.006483e+11      2.000000                  NaN                  NaN   \n",
       "max     3.049428e+11      2.000000                  NaN                  NaN   \n",
       "\n",
       "              amount  \n",
       "count   12262.000000  \n",
       "unique           NaN  \n",
       "top              NaN  \n",
       "freq             NaN  \n",
       "first            NaN  \n",
       "last             NaN  \n",
       "mean     1597.178927  \n",
       "std      3528.642055  \n",
       "min       100.000000  \n",
       "25%       499.000000  \n",
       "50%       499.000000  \n",
       "75%       999.000000  \n",
       "max     24999.000000  "
      ]
     },
     "execution_count": 7,
     "metadata": {},
     "output_type": "execute_result"
    }
   ],
   "source": [
    "df['install_time'] = pd.to_datetime(df['install_time'], format='%Y-%m-%d %H:%M:%S', errors='coerce')\n",
    "df['payment_time'] = pd.to_datetime(df['payment_time'], errors='coerce', format='%Y-%m-%d %H:%M:%S')\n",
    "\n",
    "# Check data types and null values\n",
    "print(df.info())\n",
    "\n",
    "# Check summary statistics\n",
    "df.describe(include = 'all' )"
   ]
  },
  {
   "cell_type": "code",
   "execution_count": 8,
   "metadata": {},
   "outputs": [
    {
     "name": "stdout",
     "output_type": "stream",
     "text": [
      "Summary statistics for Control Group:\n",
      "count     6157.000000\n",
      "mean      1803.856261\n",
      "std       3916.283727\n",
      "min        499.000000\n",
      "25%        499.000000\n",
      "50%        499.000000\n",
      "75%        999.000000\n",
      "max      24999.000000\n",
      "Name: amount, dtype: float64\n",
      "\n",
      "Summary statistics for Test Group:\n",
      "count     6105.000000\n",
      "mean      1388.741196\n",
      "std       3075.104191\n",
      "min        100.000000\n",
      "25%        499.000000\n",
      "50%        499.000000\n",
      "75%        999.000000\n",
      "max      24999.000000\n",
      "Name: amount, dtype: float64\n"
     ]
    }
   ],
   "source": [
    "# Descriptive Statistics for Control and Test Groups\n",
    "print(\"Summary statistics for Control Group:\")\n",
    "print(df[df['ab_group'] == 1]['amount'].describe())\n",
    "print()\n",
    "print(\"Summary statistics for Test Group:\")\n",
    "print(df[df['ab_group'] == 2]['amount'].describe())\n"
   ]
  },
  {
   "cell_type": "code",
   "execution_count": 9,
   "metadata": {},
   "outputs": [
    {
     "data": {
      "image/png": "[encoded data removed]",
      "text/plain": [
       "<Figure size 1008x432 with 2 Axes>"
      ]
     },
     "metadata": {
      "needs_background": "light"
     },
     "output_type": "display_data"
    }
   ],
   "source": [
    "fig, axs = plt.subplots(1, 2, figsize=(14, 6)) \n",
    "\n",
    "# Distribution of raw amounts\n",
    "sns.histplot(df['amount'], bins=30, kde=False, ax=axs[0],)\n",
    "axs[0].set_title('Distribution of Raw Amounts',)\n",
    "axs[0].set_xlabel('Amount')\n",
    "axs[0].set_ylabel('Frequency')\n",
    "\n",
    "# Distribution of aggregated amounts by user\n",
    "agg_amount_by_user = df.groupby('user_id')['amount'].sum()\n",
    "sns.histplot(agg_amount_by_user, bins=30, kde=False, ax=axs[1])\n",
    "plt.title('Distribution of Aggregated Amounts by User')\n",
    "plt.xlabel('Aggregated Amount')\n",
    "plt.ylabel('Frequency')\n",
    "plt.show()\n"
   ]
  },
  {
   "cell_type": "code",
   "execution_count": 10,
   "metadata": {},
   "outputs": [
    {
     "data": {
      "image/png": "[encoded data removed]",
      "text/plain": [
       "<Figure size 432x288 with 1 Axes>"
      ]
     },
     "metadata": {
      "needs_background": "light"
     },
     "output_type": "display_data"
    },
    {
     "data": {
      "image/png": "[encoded data removed]",
      "text/plain": [
       "<Figure size 432x288 with 1 Axes>"
      ]
     },
     "metadata": {
      "needs_background": "light"
     },
     "output_type": "display_data"
    }
   ],
   "source": [
    "\n",
    "df_sum_group = df.groupby(['user_id', 'ab_group'])['amount'].sum().reset_index()\n",
    "df_sum_group['ab_group'] = df_sum_group['ab_group'].astype('category')\n",
    "df_sum_group = df_sum_group[df_sum_group['amount'] > 0]\n",
    "\n",
    "# Boxplot of Aggregated Amounts by User\n",
    "sns.boxplot( x='amount', y='ab_group', data=df_sum_group)\n",
    "plt.title('Boxplot of Aggregated Amounts by User')\n",
    "plt.xlabel('Aggregated Amount by User')\n",
    "plt.show()\n",
    "\n",
    "# Boxplot of Amounts\n",
    "sns.boxplot(x=df['amount'],)\n",
    "plt.title('Boxplot of Amounts')\n",
    "plt.xlabel('Aggregated Amount by User')\n",
    "plt.show()"
   ]
  },
  {
   "cell_type": "code",
   "execution_count": 11,
   "metadata": {},
   "outputs": [
    {
     "data": {
      "text/plain": [
       "<seaborn.axisgrid.FacetGrid at 0x28143e820>"
      ]
     },
     "execution_count": 11,
     "metadata": {},
     "output_type": "execute_result"
    },
    {
     "data": {
      "image/png": "[encoded data removed]",
      "text/plain": [
       "<Figure size 414.25x360 with 1 Axes>"
      ]
     },
     "metadata": {
      "needs_background": "light"
     },
     "output_type": "display_data"
    }
   ],
   "source": [
    "sns.displot(df_sum_group, x=\"amount\", hue=\"ab_group\", kind=\"kde\", fill=True)"
   ]
  },
  {
   "cell_type": "markdown",
   "metadata": {},
   "source": [
    "### **Outlier Handling** : Identify and make a decision on the inclusion/exclusion of outliers.\n",
    "\n",
    "- **Methodology**: We will use Q-Q plots to check for normality and the IQR method for outlier detection.\n",
    "\n",
    "Business Context: \n",
    "* High-value users are particularly important in a freemium mobile game context. These users could appear as outliers but are often the most valuable customers.\n",
    "* High spending by a user is not necessarily erroneous or anomalous; it could be a business-critical behavior."
   ]
  },
  {
   "cell_type": "code",
   "execution_count": 12,
   "metadata": {},
   "outputs": [
    {
     "data": {
      "image/png": "[encoded data removed]",
      "text/plain": [
       "<Figure size 1008x432 with 2 Axes>"
      ]
     },
     "metadata": {
      "needs_background": "light"
     },
     "output_type": "display_data"
    }
   ],
   "source": [
    "# Function to show Q-Q plots aligned horizontally\n",
    "def show_qq_plots(control_data, test_data):\n",
    "    fig, axs = plt.subplots(1, 2, figsize=(14, 6))\n",
    "    \n",
    "    probplot(control_data['amount'], plot=axs[0])\n",
    "    axs[0].set_title('Q-Q Plot of Total Payments in Control Group')\n",
    "    \n",
    "    probplot(test_data['amount'], plot=axs[1])\n",
    "    axs[1].set_title('Q-Q Plot of Total Payments in Test Group')\n",
    "    \n",
    "    plt.show()\n",
    "\n",
    "# Prepare the data\n",
    "control_data_for_qq = control_group.groupby('user_id')['amount'].sum().reset_index()\n",
    "test_data_for_qq = test_group.groupby('user_id')['amount'].sum().reset_index()\n",
    "\n",
    "# Show Q-Q plots\n",
    "show_qq_plots(control_data_for_qq, test_data_for_qq)"
   ]
  },
  {
   "cell_type": "code",
   "execution_count": 13,
   "metadata": {},
   "outputs": [
    {
     "name": "stdout",
     "output_type": "stream",
     "text": [
      "Control Group:\n",
      "  - Number of outliers: 853\n",
      "  - Proportion of outliers: 2.36%\n",
      "\n",
      "Test Group:\n",
      "  - Number of outliers: 1014\n",
      "  - Proportion of outliers: 2.76%\n",
      "\n"
     ]
    }
   ],
   "source": [
    "# Function to identify outliers using IQR method on aggregated amounts by user\n",
    "def identify_outliers(data, group_name):\n",
    "    # Group by 'user_id' and sum the 'amount'\n",
    "    grouped_data = data.groupby('user_id')['amount'].sum().reset_index()\n",
    "    \n",
    "    # Calculate Q1, Q3, and IQR\n",
    "    Q1 = grouped_data['amount'].quantile(0.25)\n",
    "    Q3 = grouped_data['amount'].quantile(0.75)\n",
    "    IQR = Q3 - Q1\n",
    "    \n",
    "    # Identify outliers\n",
    "    outliers = grouped_data[(grouped_data['amount'] < (Q1 - 1.5 * IQR)) | \n",
    "                            (grouped_data['amount'] > (Q3 + 1.5 * IQR))]\n",
    "    \n",
    "    # Calculate the proportion of outliers\n",
    "    proportion_outliers = len(outliers) / data['user_id'].nunique()\n",
    "    \n",
    "    print(f\"{group_name} Group:\")\n",
    "    print(f\"  - Number of outliers: {len(outliers)}\")\n",
    "    print(f\"  - Proportion of outliers: {proportion_outliers * 100:.2f}%\")\n",
    "    print(\"\")\n",
    "\n",
    "# Identify outliers for Control and Test groups\n",
    "identify_outliers(control_group, 'Control')\n",
    "identify_outliers(test_group, 'Test')\n"
   ]
  },
  {
   "cell_type": "markdown",
   "metadata": {},
   "source": [
    "## Decision on Outliers\n",
    "\n",
    "- **Inclusion/Exclusion**: Outliers will be included in the analysis.\n",
    "- **Rationale**: The decision to include outliers is based on their business significance. High-paying users, although outliers, can significantly impact revenue and are therefore important to consider.\n",
    "- **Sensitivity Analysis**: A sensitivity analysis can be performed later to assess the impact of including outliers on the final results of the A/B test.\n",
    "\n"
   ]
  },
  {
   "cell_type": "markdown",
   "metadata": {},
   "source": [
    "#### In this section, we will calculate and explore three key metrics:\n",
    "\n",
    "1. **Conversion Rate**: The proportion of users who make a purchase after installing the game.\n",
    "2. **Average Revenue Per User (ARPU)**: The average revenue generated per user.\n",
    "3. **Average Revenue Per Paying User (ARPPU)**: The average revenue generated per user who makes a purchase.\n"
   ]
  },
  {
   "cell_type": "code",
   "execution_count": 14,
   "metadata": {},
   "outputs": [
    {
     "data": {
      "text/html": [
       "<div>\n",
       "<style scoped>\n",
       "    .dataframe tbody tr th:only-of-type {\n",
       "        vertical-align: middle;\n",
       "    }\n",
       "\n",
       "    .dataframe tbody tr th {\n",
       "        vertical-align: top;\n",
       "    }\n",
       "\n",
       "    .dataframe thead th {\n",
       "        text-align: right;\n",
       "    }\n",
       "</style>\n",
       "<table border=\"1\" class=\"dataframe\">\n",
       "  <thead>\n",
       "    <tr style=\"text-align: right;\">\n",
       "      <th></th>\n",
       "      <th>Metric</th>\n",
       "      <th>Control Group</th>\n",
       "      <th>Test Group</th>\n",
       "    </tr>\n",
       "  </thead>\n",
       "  <tbody>\n",
       "    <tr>\n",
       "      <th>0</th>\n",
       "      <td>Conversion Rate</td>\n",
       "      <td>0.023571</td>\n",
       "      <td>0.027626</td>\n",
       "    </tr>\n",
       "    <tr>\n",
       "      <th>1</th>\n",
       "      <td>ARPU</td>\n",
       "      <td>306.906792</td>\n",
       "      <td>230.983926</td>\n",
       "    </tr>\n",
       "    <tr>\n",
       "      <th>2</th>\n",
       "      <td>ARPPU</td>\n",
       "      <td>13020.331770</td>\n",
       "      <td>8361.208087</td>\n",
       "    </tr>\n",
       "  </tbody>\n",
       "</table>\n",
       "</div>"
      ],
      "text/plain": [
       "            Metric  Control Group   Test Group\n",
       "0  Conversion Rate       0.023571     0.027626\n",
       "1             ARPU     306.906792   230.983926\n",
       "2            ARPPU   13020.331770  8361.208087"
      ]
     },
     "execution_count": 14,
     "metadata": {},
     "output_type": "execute_result"
    }
   ],
   "source": [
    "# Define function to calculate Conversion Rate\n",
    "def calculate_conversion_rate(df):\n",
    "    unique_users = df['user_id'].nunique()\n",
    "    paying_users = df[df['amount'] > 0 ]['user_id'].nunique()\n",
    "    return paying_users / unique_users if unique_users != 0 else 0\n",
    "\n",
    "# Define function to calculate ARPU (Average Revenue Per User)\n",
    "def calculate_arpu(df):\n",
    "    unique_users = df['user_id'].nunique()\n",
    "    total_revenue = df['amount'].sum()\n",
    "    return total_revenue / unique_users if unique_users != 0 else 0\n",
    "\n",
    "# Define function to calculate ARPPU (Average Revenue Per Paying User)\n",
    "def calculate_arppu(df):\n",
    "    # define paying user as user who has paid at least once\n",
    "    paying_users = df[df['amount'] > 0 ]['user_id'].nunique()\n",
    "    total_revenue = df['amount'].sum()\n",
    "    return total_revenue / paying_users if paying_users != 0 else 0\n",
    "\n",
    "def calculate_arppu2(df):\n",
    "    paying_users = df[df['amount'] > 0]['user_id'].nunique()\n",
    "    total_revenue = df['amount'].sum()\n",
    "    return total_revenue / paying_users if paying_users != 0 else 0\n",
    "\n",
    "\n",
    "# Calculate metrics for Control Group\n",
    "conversion_rate_control = calculate_conversion_rate(control_group)\n",
    "arpu_control = calculate_arpu(control_group)\n",
    "arppu_control = calculate_arppu(control_group)\n",
    "\n",
    "# Calculate metrics for Test Group\n",
    "conversion_rate_test = calculate_conversion_rate(test_group)\n",
    "arpu_test = calculate_arpu(test_group)\n",
    "arppu_test = calculate_arppu(test_group)\n",
    "\n",
    "# Compile the metrics into a DataFrame for easier comparison and visualization\n",
    "metrics_df = pd.DataFrame({\n",
    "    'Metric': ['Conversion Rate', 'ARPU', 'ARPPU',],\n",
    "    'Control Group': [conversion_rate_control, arpu_control, arppu_control],\n",
    "    'Test Group': [conversion_rate_test, arpu_test, arppu_test]\n",
    "})\n",
    "# calculate percentage change\n",
    "# metrics_df['Percent Change'] = (metrics_df['Test Group'] - metrics_df['Control Group']) / metrics_df['Control Group'] * 100\n",
    "metrics_df"
   ]
  },
  {
   "cell_type": "code",
   "execution_count": 15,
   "metadata": {},
   "outputs": [
    {
     "data": {
      "image/png": "[encoded data removed]",
      "text/plain": [
       "<Figure size 1296x432 with 3 Axes>"
      ]
     },
     "metadata": {
      "needs_background": "light"
     },
     "output_type": "display_data"
    }
   ],
   "source": [
    "# Generate separate vertical grouped bar plots for each metric, all aligned horizontally, with bar values\n",
    "melted_df = metrics_df.melt(id_vars='Metric', var_name='Group', value_name='Value')\n",
    "metrics = ['Conversion Rate', 'ARPU', 'ARPPU']\n",
    "\n",
    "# Initialize the plot\n",
    "fig, axes = plt.subplots(1, 3, figsize=(18, 6))\n",
    "\n",
    "# Loop through the metrics for plotting\n",
    "for i, metric in enumerate(metrics):\n",
    "    ax = axes[i]\n",
    "    sns.barplot(x='Metric', y='Value', hue='Group', data=melted_df[melted_df['Metric'] == metric], ax=ax)\n",
    "    ax.set_title(f'{metric} Comparison')\n",
    "    ax.set_ylabel('Value')\n",
    "    ax.set_xlabel('')\n",
    "    \n",
    "    # Remove the legend for all subplots\n",
    "    ax.legend_.remove()\n",
    "    \n",
    "    # Annotate each bar with its value\n",
    "    for p in ax.patches:\n",
    "        ax.annotate(f'{p.get_height():.4f}', (p.get_x() + p.get_width() / 2., p.get_height()), ha='center', va='center', xytext=(0, 10), textcoords='offset points')\n",
    "\n",
    "# Add an overall title\n",
    "plt.suptitle('Grouped Bar Plots: Comparison of Key Metrics Between Control and Test Groups with Values')\n",
    "\n",
    "# Add a single legend outside the plot\n",
    "plt.legend(title='Group', loc='upper left', bbox_to_anchor=(1, 1))\n",
    "\n",
    "plt.tight_layout(rect=[0, 0, 1, 1])  # Adjust layout to make room for the legend\n",
    "plt.show()\n"
   ]
  },
  {
   "cell_type": "markdown",
   "metadata": {},
   "source": [
    "# Two proportion Z test: Conversion Rate"
   ]
  },
  {
   "cell_type": "markdown",
   "metadata": {},
   "source": [
    "### Conversion Rate Experiment Design: Hypothesis, Test Selection, and Parameters\n",
    "\n",
    "#### Objectives and Business Context\n",
    "\n",
    "The primary objective of this test is to evaluate the impact of a modified starter offer on the Conversion Rate within a mobile game store. The starter offer's price for the test group has been reduced fivefold, while its content has been halved. The Conversion Rate is defined as the proportion of users who make a purchase after installing the game.\n",
    "\n",
    "#### Note on Test Choice\n",
    "\n",
    "The problem statement explicitly asks us to \"evaluate the effect of the change for the test group.\" It does not specify a directional hypothesis (i.e., whether the conversion rate will increase or decrease). To comply with the problem and to keep our analysis unbiased, a two-tailed test is chosen. This allows us to detect any statistically significant change, whether positive or negative.\n",
    "\n",
    "#### Hypotheses\n",
    "\n",
    "- **Null Hypothesis (\\(H_0\\))**: The modified starter offer will not result in a statistically significant change in the Conversion Rate.\n",
    "- **Alternative Hypothesis (\\(H_a\\))**: The modified starter offer will result in a statistically significant change in the Conversion Rate.\n",
    "\n",
    "#### Choice of Two-Tailed Z-Test for Proportions\n",
    "\n",
    "##### Rationale:\n",
    "\n",
    "1. **Alignment with Problem Statement**: The problem statement asks for an evaluation of the effect without specifying a direction. A two-tailed test is more aligned with this requirement, as it allows for the detection of any change, whether an increase or decrease.\n",
    "  \n",
    "2. **Statistical Robustness**: A Proportion Z-test is appropriate due to the large enough sample sizes in both the control and test groups, validating its statistical robustness.\n",
    "  \n",
    "3. **Central Limit Theorem**: Given the large sample size, the sampling distribution of the sample proportion is expected to approximate a normal distribution, justifying the use of a Proportion Z-test.\n",
    "\n",
    "4. **Ease of Interpretation**: Z-tests are straightforward to understand and interpret, making them suitable for this business context.\n",
    "\n",
    "#### Test Parameters\n",
    "\n",
    "- **Significance Level (\\(\\alpha\\))**: 0.05\n",
    "- **Practical Significance Level**: Dependens on the business context.\n",
    "- **Test Power**: Can be calculated post-hoc based on the observed effect size and sample size."
   ]
  },
  {
   "cell_type": "markdown",
   "metadata": {},
   "source": [
    "#### Checking Assumptions\n",
    "\n",
    "Before executing the statistical tests for conversion rate, let's confirm that our dataset meets the essential assumptions for a Z-test for proportions:\n",
    "\n",
    "1. **Independence**: Each observation should be independent of others. This is usually built into the study design.\n",
    "2. **Sample Size**: We have sufficiently large sample sizes for both the Control and Test groups.\n",
    "3. **Binomial Distribution**: The metric under test (Conversion Rate) follows a binomial distribution.\n",
    "4. **Normal Distribution**: Can the binomial distribution be approximated to a Normal distribution? - Yes, the np and n(1-p) values for both samples are >= 10\n",
    "5. **Random Sampling**\n"
   ]
  },
  {
   "cell_type": "code",
   "execution_count": 16,
   "metadata": {},
   "outputs": [
    {
     "name": "stdout",
     "output_type": "stream",
     "text": [
      "Assumption checks passed for both groups.\n"
     ]
    }
   ],
   "source": [
    "# Checking if np and n(1-p) values for both samples are >= 10\n",
    "THRESHOLD = 10 \n",
    "\n",
    "# Extract conversion rates directly from metrics_df\n",
    "def get_conversion_rate(metrics_df, group_column_name):\n",
    "    return metrics_df.loc[metrics_df['Metric'] == 'Conversion Rate', group_column_name].values[0]\n",
    "\n",
    "p_control = get_conversion_rate(metrics_df, 'Control Group')\n",
    "p_test = get_conversion_rate(metrics_df, 'Test Group')\n",
    "\n",
    "# Calculate expected number of successes and failures\n",
    "def calculate_success_failure(num_users, conversion_rate):\n",
    "    successes = num_users * conversion_rate\n",
    "    failures = num_users * (1 - conversion_rate)\n",
    "    return successes, failures\n",
    "\n",
    "successes_control, failures_control = calculate_success_failure(unique_users_control, p_control)\n",
    "successes_test, failures_test = calculate_success_failure(unique_users_test, p_test)\n",
    "\n",
    "# Check assumptions\n",
    "def check_assumptions(successes, failures, threshold):\n",
    "    return successes > threshold and failures > threshold\n",
    "\n",
    "if check_assumptions(successes_control, failures_control, THRESHOLD) and check_assumptions(successes_test, failures_test, THRESHOLD):\n",
    "    print(\"Assumption checks passed for both groups.\")\n",
    "else:\n",
    "    print(\"Assumption checks failed.\")\n",
    "    if not check_assumptions(successes_control, failures_control, THRESHOLD):\n",
    "        print(\"Issue with the Control Group.\")\n",
    "    if not check_assumptions(successes_test, failures_test, THRESHOLD):\n",
    "        print(\"Issue with the Test Group.\")"
   ]
  },
  {
   "cell_type": "code",
   "execution_count": 17,
   "metadata": {},
   "outputs": [
    {
     "name": "stdout",
     "output_type": "stream",
     "text": [
      "Z-statistic: 3.46\n",
      "P-value: 0.00053\n",
      "Confidence Interval (Test Group): (0.025948951647883314, 0.029302376509043535)\n",
      "Confidence Interval (Control Group): (0.02200828014337147, 0.02513441909394477)\n",
      "Result: The test is statistically significant.\n"
     ]
    }
   ],
   "source": [
    "# Z-test for comparing two proportions\n",
    "\n",
    "count_success_test = test_group[test_group['amount'] > 0]['user_id'].nunique()\n",
    "count_success_control = control_group[control_group['amount'] > 0]['user_id'].nunique()\n",
    "\n",
    "# Number of observations (unique users)\n",
    "nobs_test = test_group['user_id'].nunique()\n",
    "nobs_control = control_group['user_id'].nunique()\n",
    "\n",
    "# Perform the Z-test\n",
    "z_stat, p_value = proportions_ztest([count_success_test, count_success_control], [nobs_test, nobs_control], alternative='two-sided')\n",
    "\n",
    "# Calculate the 95% Confidence Interval\n",
    "confidence_interval_test = proportion_confint(count_success_test, nobs_test, alpha=0.05, method='normal')\n",
    "confidence_interval_control = proportion_confint(count_success_control, nobs_control, alpha=0.05, method='normal')\n",
    "\n",
    "print(f\"Z-statistic: {z_stat:.2f}\")\n",
    "print(f\"P-value: {p_value:.5f}\")\n",
    "print(f\"Confidence Interval (Test Group): {confidence_interval_test}\")\n",
    "print(f\"Confidence Interval (Control Group): {confidence_interval_control}\")\n",
    "\n",
    "# Check for statistical significance\n",
    "alpha = 0.05\n",
    "if p_value < alpha:\n",
    "    print(\"Result: The test is statistically significant.\")\n",
    "else:\n",
    "    print(\"Result: The test is not statistically significant.\")\n"
   ]
  },
  {
   "cell_type": "markdown",
   "metadata": {},
   "source": [
    "### A/B Test Results and Conclusion: Conversion rate\n",
    "\n",
    "### Statistical Test Outcome\n",
    "\n",
    "- **Z-statistic**: 3.46\n",
    "- **P-value**: 0.00053\n",
    "\n",
    "The p-value is significantly less than our alpha level of 0.05. Thus, we can reject the null hypothesis. The results indicate that the observed difference in conversion rates between the test and control groups is statistically significant. \n",
    "\n",
    "#### Confidence Intervals\n",
    "\n",
    "- **95% Confidence Interval for Test Group**: [0.0259, 0.0293]\n",
    "- **95% Confidence Interval for Control Group**: [0.0220, 0.0251]\n",
    "\n",
    "The 95% confidence intervals for the conversion rates of the test and control groups are [0.0259, 0.0293] and [0.0220, 0.0251], respectively. These intervals do not overlap, which provides evidence to support the claim that the conversion rate for the test group is genuinely higher than that for the control group.\n",
    "\n",
    "### Interpretation\n",
    "\n",
    "The Z-statistic of 3.46 and the p-value of 0.00053 strongly suggest that the conversion rate for the test group is higher than for the control group. This is also supported by the non-overlapping confidence intervals. \n",
    "\n",
    "### Practical Significance\n",
    "\n",
    "Given the observed difference in conversion rates and the fact that the test is statistically significant, it would be possible to consider implementing the changes made in the test group to the larger audience if the results are above the threshold of practical significance. However it is crucial to consider important business metrics, such as revenue metrics, to ensure that the increase in conversion rate also translates into a positive impact on revenue. This will be done in the next section."
   ]
  },
  {
   "cell_type": "markdown",
   "metadata": {},
   "source": [
    "## Two Sample test: ARPU and ARPPU"
   ]
  },
  {
   "cell_type": "markdown",
   "metadata": {},
   "source": [
    "### ARPU Experiment Design: Hypothesis, Test Selection, and Parameters\n",
    "\n",
    "#### Objectives and Business Context\n",
    "\n",
    "Aim is to evaluate if the changes implemented in the test group lead to a statistically significant difference in the ARPU compared to the control group. The starter offer in the test group has a fivefold lower price and half as much content. The business context involves understanding how this pricing strategy impacts the revenue generated per user.\n",
    "\n",
    "## 2. Metrics Definition\n",
    "\n",
    "**ARPU (Average Revenue Per User)**: It's the total revenue generated by the group divided by the total number of users in that group.\n",
    "\n",
    "$$\n",
    "\\text{ARPU} = \\frac{\\text{Total Revenue of Group}}{\\text{Total Users in Group}}\n",
    "$$\n",
    "\n",
    "**ARPU (Average Revenue Per Paying User)**:  It's the total revenue generated by the group divided by the number of paying users in that group.\n",
    "\n",
    "$$\n",
    "\\text{ARPPU} = \\frac{\\text{Total Revenue of  Group}}{\\text{Total Paying Users in Group}}\n",
    "$$\n",
    "\n",
    "#### Hypotheses 1\n",
    "\n",
    "- **Null Hypothesis (\\(H_0\\))**: The modified starter offer has no impact on the ARPU.\n",
    "- **Alternative Hypothesis (\\(H_a\\))**: The modified starter offer results in a statistically significant change (either increase or decrease) in ARPU.\n",
    "\n",
    "#### Hypotheses 1\n",
    "\n",
    "- **Null Hypothesis (\\(H_0\\))**: The modified starter offer has no impact on the ARPPU.\n",
    "- **Alternative Hypothesis (\\(H_a\\))**: The modified starter offer results in a statistically significant change (either increase or decrease) in ARPPU.\n",
    "\n",
    "#### Test Parameters\n",
    "\n",
    "- **Significance Level (\\(\\alpha\\))**: 0.05\n",
    "- **Practical Significance Level**: To be determined based on business context and observed data.\n"
   ]
  },
  {
   "cell_type": "markdown",
   "metadata": {},
   "source": [
    "#### Checking Assumptions\n",
    "\n",
    "Before executing the statistical tests for Average Revenue metrics, let's confirm that our dataset meets the essential assumptions for a T-test for proportions:\n",
    "\n",
    "1. **Independence**: The observations in the control group and the test group are independent of each other.Built into the study design.\n",
    "2. **Equality of Variances**: The variances of the dependent variable should be equal in both groups: Levene's Test verifies this.\n",
    "3. **Sample Size**: There should be no extreme imbalance in sample sizes between groups. Sample sizes are roughly equal. \n",
    "4. **Normal Distribution of Sample Mean**: Considering our large sample size and the nature of our metrics, it might be reasonable to proceed with the t-tests for comparing means if the Levene's test for equal variances passes."
   ]
  },
  {
   "cell_type": "code",
   "execution_count": 18,
   "metadata": {},
   "outputs": [
    {
     "name": "stdout",
     "output_type": "stream",
     "text": [
      "Levene's Test Statistic: 2.654566330336067\n",
      "P-value: 0.10325723434289037\n",
      "Variances are not significantly different between the two groups.\n"
     ]
    }
   ],
   "source": [
    "# Checking for equality of variances\n",
    "\n",
    "# Calculate Revenue per user (RPU)\n",
    "rpu_control = control_group.groupby('user_id')['amount'].sum().reset_index()\n",
    "rpu_test = test_group.groupby('user_id')['amount'].sum().reset_index()\n",
    "\n",
    "stat, p_value = levene(rpu_control['amount'], rpu_test['amount'])\n",
    "\n",
    "print(f\"Levene's Test Statistic: {stat}\")\n",
    "print(f\"P-value: {p_value}\")\n",
    "\n",
    "if p_value < 0.05:\n",
    "    print(\"Variances are significantly different between the two groups.\")\n",
    "else:\n",
    "    print(\"Variances are not significantly different between the two groups.\")"
   ]
  },
  {
   "cell_type": "code",
   "execution_count": 19,
   "metadata": {},
   "outputs": [
    {
     "name": "stdout",
     "output_type": "stream",
     "text": [
      "Levene's Test Statistic: 5.516291444599683\n",
      "P-value: 0.01894404608850161\n",
      "Variances are significantly different between the two groups.\n"
     ]
    }
   ],
   "source": [
    "# ARPPU (average revenue for users who have made a payment)\n",
    "rppu_control = control_group[control_group['amount'].notna()].groupby('user_id')['amount'].sum().reset_index()\n",
    "rppu_test = test_group[test_group['amount'].notna()].groupby('user_id')['amount'].sum().reset_index()\n",
    "\n",
    "# Check levenes test for these as well\n",
    "\n",
    "stat, p_value = levene(rppu_control['amount'], rppu_test['amount'])\n",
    "\n",
    "print(f\"Levene's Test Statistic: {stat}\")\n",
    "print(f\"P-value: {p_value}\")\n",
    "\n",
    "if p_value < 0.05:\n",
    "    print(\"Variances are significantly different between the two groups.\")\n",
    "else:\n",
    "    print(\"Variances are not significantly different between the two groups.\")"
   ]
  },
  {
   "cell_type": "markdown",
   "metadata": {},
   "source": [
    "* For ARPU, the variances between the groups are approximately equal, which makes the t test more robust.\n",
    "* For ARPPU, the variances are not equal. \n",
    "* Decision is to execute Mann-Whitney U test because it is generally considered robust against this violation as well."
   ]
  },
  {
   "cell_type": "code",
   "execution_count": 20,
   "metadata": {},
   "outputs": [
    {
     "name": "stdout",
     "output_type": "stream",
     "text": [
      "The p-value for the Mann-Whitney U test is 0.0008517742523960054. We reject the null hypothesis, suggesting a significant difference in ARPU between the Control and Test groups.\n",
      " Confidence Interval: (655980225.8395438, 667114919.1604562)\n",
      "The p-value for the Mann-Whitney U test is 5.1299171143513464e-18. We reject the null hypothesis, suggesting a significant difference in ARPPU between the Control and Test groups.\n",
      " Confidence Interval: (509664.4374929599, 555149.5625070401)\n"
     ]
    }
   ],
   "source": [
    "def mann_whitney_test_with_ci(control, test, variable, alpha=0.05):\n",
    "    # Perform the test\n",
    "    u_statistic, p_value = mannwhitneyu(control['amount'], test['amount'], alternative='two-sided')\n",
    "    \n",
    "    # Calculate the confidence interval\n",
    "    n1 = len(control)\n",
    "    n2 = len(test)\n",
    "    mean_u = n1 * n2 / 2\n",
    "    std_u = np.sqrt(n1 * n2 * (n1 + n2 + 1) / 12)\n",
    "    z = (u_statistic - mean_u) / std_u\n",
    "    z_critical = norm.ppf(1 - alpha/2)\n",
    "    ci_lower = mean_u + (z - z_critical) * std_u\n",
    "    ci_upper = mean_u + (z + z_critical) * std_u\n",
    "    \n",
    "    # Interpret the results\n",
    "    if p_value < alpha:\n",
    "        return f\"The p-value for the Mann-Whitney U test is {p_value}. We reject the null hypothesis, suggesting a significant difference in {variable} between the Control and Test groups.\\n Confidence Interval: ({ci_lower}, {ci_upper})\"\n",
    "    else:\n",
    "        return f\"The p-value for the Mann-Whitney U test is {p_value}. We fail to reject the null hypothesis, suggesting no significant difference in {variable} between the Control and Test groups.\\n Confidence Interval: ({ci_lower}, {ci_upper})\"\n",
    "\n",
    "# Mann-Whitney U Test for ARPU\n",
    "result_arpu = mann_whitney_test_with_ci(rpu_control, rpu_test, 'ARPU')\n",
    "\n",
    "# Mann-Whitney U Test for ARPPU\n",
    "result_arppu = mann_whitney_test_with_ci(rppu_control, rppu_test, 'ARPPU')\n",
    "\n",
    "print(result_arpu)\n",
    "print(result_arppu)\n"
   ]
  },
  {
   "cell_type": "markdown",
   "metadata": {},
   "source": [
    "### A/B Test Results and Conclusion: ARPU and ARPPU\n",
    "\n",
    "---\n",
    "\n",
    "#### Statistical Test Outcome\n",
    "\n",
    "\n",
    "\n",
    "- **P-value for ARPU**: 0.00085\n",
    "- **P-value for ARPPU**: 5.13e-18\n",
    "\n",
    "Given that both p-values are significantly below our alpha level of 0.05, we reject the null hypothesis for both ARPU and ARPPU. This indicates that there are statistically significant differences in these metrics between the Control and Test groups. Given that the test group was offered a fivefold lower price and half as much content for the starter offer, these significant differences are crucial.\n",
    "\n",
    "---\n",
    "\n",
    "#### Interpretation\n",
    "\n",
    "##### ARPU\n",
    "\n",
    "The Test group shows a lower ARPU compared to the Control group. The p-value of 0.00085 strongly supports rejecting the null hypothesis, confirming a statistically significant difference. This suggests that while more users might be purchasing the starter offer due to its lower price, this has not been sufficient to offset the lower price point, thereby affecting the overall revenue per user negatively.\n",
    "\n",
    "\n",
    "##### ARPPU\n",
    "\n",
    "Similarly, the Test group shows a significantly lower ARPPU compared to the Control group. With a p-value close to zero (5.13e-18), we reject the null hypothesis, confirming a statistically significant difference. This indicates that among paying users, the Test group generated less revenue per user.\n",
    "\n",
    "\n",
    "---\n",
    "\n",
    "#### Practical Significance\n",
    "\n",
    "This information should be critically assessed alongside business goals and other non-quantifiable metrics for a comprehensive decision. The statistically significant decreases in both ARPU and ARPPU for the Test group suggest that the strategy of lowering the price point may have backfired in terms of overall revenue metrics. Careful consideration should be given before scaling these changes to the larger audience. This information should be critically assessed alongside business goals and other non-quantifiable metrics to make a comprehensive decision."
   ]
  },
  {
   "cell_type": "markdown",
   "metadata": {},
   "source": [
    "## Recommendations\n",
    "\n",
    "1. **Conversion Rate**: Given the increase in conversion rate, further tests could be conducted to assess the long-term impact on retention and lifetime value.\n",
    "  \n",
    "2. **ARPU and ARPPU**: The decrease in both ARPU and ARPPU suggests that while the test group strategy may have increased the number of purchasers, it has likely done so at the cost of overall revenue. Reconsider the pricing strategy and perhaps test a middle-ground price point.\n",
    "\n",
    "3. **Comprehensive Assessment**: Before rolling out changes, consider the combined effect of all metrics. An increased conversion rate is positive but should not come at the expense of significantly decreased revenue per user or per paying user.\n",
    "\n",
    "## Next Steps\n",
    "\n",
    "1. **Longitudinal Study**: Assess the long-term impact of the changes on metrics like customer retention and lifetime value.\n",
    "\n",
    "2. **Financial Modeling**: Conduct a financial analysis to quantify the potential revenue impact of implementing the changes.\n"
   ]
  },
  {
   "cell_type": "markdown",
   "metadata": {},
   "source": [
    "## Additional Metrics to Consider\n",
    "\n",
    "Given the nature of the A/B test and the mobile gaming context, the following metrics could offer further insights:\n",
    "\n",
    "### 1. Customer Retention Rate:\n",
    "\n",
    "Understanding how the new starter offer impacts customer retention could be valuable. If the new offer attracts more customers but fails to retain them, it might not be sustainable in the long run.\n",
    "\n",
    "### 2. Customer Lifetime Value (CLV):\n",
    "\n",
    "CLV would give us an idea of the long-term value of a customer and whether the new starter offer positively or negatively affects this value.\n",
    "\n",
    "### 3. Time to First Purchase:\n",
    "\n",
    "This metric would help us understand how quickly users make their first purchase after installing the game. A decrease in this metric indicates the new offer is more enticing.\n",
    "\n",
    "### 4. Repeat Purchase Rate:\n",
    "\n",
    "It would be useful to know if the change in starter offer has any effect on the likelihood of a customer making subsequent purchases.\n",
    "\n",
    "### 5. Churn Rate:\n",
    "\n",
    "Understanding if the new starter offer causes an increase in the number of users abandoning the service can offer another angle on its efficacy.\n",
    "\n",
    "### 6. Average Session Duration:\n",
    "\n",
    "Understanding user engagement can be as important as understanding their spending. Longer session durations can indicate higher engagement levels, which could eventually lead to higher revenue.\n",
    "\n",
    "### 7. User Satisfaction Rates (e.g., Net Promoter Score):\n",
    "\n",
    "Satisfaction metrics could help gauge whether the new pricing model has an impact\n"
   ]
  },
  {
   "cell_type": "markdown",
   "metadata": {},
   "source": [
    "# supplementary analysis"
   ]
  },
  {
   "cell_type": "markdown",
   "metadata": {},
   "source": [
    "### Addidional test for conversion rate\n",
    "\n",
    "Given that the original problem statement explicitly asks to \"evaluate the effect of the change for the test group\" without specifying a direction of interest, a two-tailed test was originaly chosen to strictly comply with these instructions. Two tailed approach allows us to assess any statistically significant change in the Conversion Rate, whether it be an increase or a decrease.\n",
    "\n",
    "However, considering the nature of the modification—a fivefold decrease in price for the starter offer—it is reasonable to hypothesize that the business aim could be an increase in Conversion Rate. An increase in this rate would lead to a larger customer base, aligning with key business objectives. For the sake of completeness in the next section I also include a one-tailed test, focused specifically on detecting any significant increase in Conversion Rate. This inclusion serves to align our approach with potential business objectives, providing an understanding of the test's practical impact. Thus for this test it is **assumed** that we are uninterested in the possibility of Group A scoring lower than Group B.\n",
    "\n",
    "### Conversion Rate Experiment Design: Hypothesis, Test Selection, and Parameters\n",
    "\n",
    "#### Objectives and Business Context\n",
    "\n",
    "The primary objective of this A/B test is to assess the impact of a modified starter offer on the Conversion Rate in the mobile game store. The starter offer's price in the test group has been reduced fivefold, and its content has been halved.\n",
    "\n",
    "#### Hypotheses\n",
    "\n",
    "- **Null Hypothesis (\\(H_0\\))**: The modified starter offer will not result in a statistically significant increase in the Conversion Rate.\n",
    "- **Alternative Hypothesis (\\(H_a\\))**: The modified starter offer will result in a statistically significant increase in the Conversion Rate.\n",
    "\n",
    "#### Choice of Z-Test\n",
    "\n",
    "The Z-Test for proportions is our selected statistical test, for several reasons:\n",
    "\n",
    "1. **Large Sample Size**: Both the control and test groups have a large number of users, making the Z-test statistically reliable.\n",
    "2. **Central Limit Theorem**: The large sample size ensures that the sampling distribution of the sample proportion approximates a normal distribution.\n",
    "3. **Ease of Interpretation**: Z-tests are straightforward to understand and interpret\n",
    "4. **Suitability for Conversion Rate**: Z-tests for proportions are good fit for comparing Conversion Rates between two groups, especially when the sample sizes are large.\n",
    "\n",
    "\n",
    "#### One-Tailed vs. Two-Tailed Test\n",
    "\n",
    "We opt for a one-tailed test for the following reasons:\n",
    "\n",
    "1. **Practical Business Context**: When implementing a change, the primary concern is often to ascertain whether the new strategy improves upon the existing one. In this context, a one-tailed test provides a more focused approach to hypothesis testing.\n",
    "2. **Directional Hypothesis**: Our business aim is directional; we are specifically interested in an increase in the Conversion Rate. A one-tailed test is more appropriate for assessing directional effects.\n",
    "3. **Statistical Power**: One-tailed tests are generally more powerful for detecting an effect in a specific direction.\n",
    "\n",
    "\n",
    "#### Test Parameters\n",
    "\n",
    "- **Significance Level (\\(\\alpha\\))**: 0.05\n"
   ]
  },
  {
   "cell_type": "code",
   "execution_count": 21,
   "metadata": {},
   "outputs": [
    {
     "name": "stdout",
     "output_type": "stream",
     "text": [
      "Z-statistic: 3.464371\n",
      "P-value: 0.000266\n",
      "Confidence Interval: (array([0.02594895, 0.02200828]), array([0.02930238, 0.02513442]))\n"
     ]
    }
   ],
   "source": [
    "# Perform the Z-test\n",
    "z_stat, p_value = proportions_ztest([count_success_test, count_success_control], [nobs_test, nobs_control], alternative='larger')\n",
    "\n",
    "# Calculate the 95% Confidence Interval\n",
    "conf_interval = proportion_confint(count=[count_success_test, count_success_control], nobs=[nobs_test, nobs_control], alpha=0.05, method='normal')\n",
    "\n",
    "# Display the results\n",
    "z_stat, p_value, conf_interval\n",
    "print(f\"Z-statistic: {z_stat:.6f}\")\n",
    "print(f\"P-value: {p_value:.6f}\")\n",
    "print(f\"Confidence Interval: {conf_interval}\")\n"
   ]
  },
  {
   "cell_type": "markdown",
   "metadata": {},
   "source": [
    "\n",
    "## One Tailed Test Results and Conclusion\n",
    "\n",
    "### Statistical Test Outcome\n",
    "\n",
    "- **Z-statistic**: 3.46\n",
    "- **P-value**: 0.00027\n",
    "\n",
    "The p-value is less than our alpha level of 0.05, indicating that the observed difference in conversion rates between the test and control groups is statistically significant. This suggests that the change in the starter offer had a significant positive impact on the conversion rate.\n",
    "\n",
    "#### Confidence Intervals\n",
    "\n",
    "- **95% Confidence Interval for Test Group**: [0.0259, 0.0293]\n",
    "- **95% Confidence Interval for Control Group**: [0.0220, 0.0251]\n",
    "\n",
    "The 95% confidence intervals for the conversion rates of the test and control groups are [0.0259, 0.0293] and [0.0220, 0.0251], respectively. These intervals do not overlap, providing further evidence that the test group's conversion rate is  higher than the control group's.\n",
    "\n",
    "### Practical Significance\n",
    "\n",
    "In the context of the experiment, we did not have prior information to set a practical significance level. However, observing the confidence intervals and the Z-statistic, we can infer that the test group shows a promising increase in conversion rate. \n",
    "\n",
    "It's crucial to note that in a real-world scenario, the practical significance level would typically be set by considering the business context, cost of implementing the change, and the expected benefit. "
   ]
  }
 ],
 "metadata": {
  "kernelspec": {
   "display_name": "venv",
   "language": "python",
   "name": "python3"
  },
  "language_info": {
   "codemirror_mode": {
    "name": "ipython",
    "version": 3
   },
   "file_extension": ".py",
   "mimetype": "text/x-python",
   "name": "python",
   "nbconvert_exporter": "python",
   "pygments_lexer": "ipython3",
   "version": "3.9.13"
  },
  "orig_nbformat": 4
 },
 "nbformat": 4,
 "nbformat_minor": 2
}
